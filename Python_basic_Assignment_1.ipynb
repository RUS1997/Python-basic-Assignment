{
  "nbformat": 4,
  "nbformat_minor": 0,
  "metadata": {
    "colab": {
      "provenance": []
    },
    "kernelspec": {
      "name": "python3",
      "display_name": "Python 3"
    },
    "language_info": {
      "name": "python"
    }
  },
  "cells": [
    {
      "cell_type": "markdown",
      "source": [
        "1. What are data structures, and why are they important?\n",
        "   - Data structures are ways to organize and store data in a computer so that it can be used efficiently. They help in managing and processing data effectively, making programs faster and easier to understand.\n",
        "2. Explain the difference between mutable and immutable data types with examples.\n",
        "   - Mutable: Can be changed after creation.\n",
        "   Example: Lists ([1, 2, 3]) can have items added or removed.\n",
        "   - Immutable: Cannot be changed after creation.\n",
        "   Example: Tuples ((1, 2, 3)) and strings (\"hello\") cannot be altered once created.\n",
        "3. What are the main differences between lists and tuples in Python?\n",
        "   - Lists: Mutable, can be changed, and use more memory.\n",
        "   - Tuples: Immutable, cannot be changed, and use less memory.\n",
        "4. Describe how dictionaries store data.\n",
        "   - Dictionaries store data in key-value pairs. Each key is unique and maps to a value.\n",
        "5. Why might you use a set instead of a list in Python?\n",
        "   - Sets automatically remove duplicate items and are faster for checking if an item exists. However, they do not maintain order.\n",
        "6. What is a string in Python, and how is it different from a list?\n",
        "   - A string is a sequence of characters (like \"hello\"). Unlike lists, strings are immutable and can only contain characters, whereas lists can contain any data type.\n",
        "7. ow do tuples ensure data integrity in Python?\n",
        "   - Since tuples are immutable, their data cannot be changed after creation, ensuring that the data remains consistent throughout the program.\n",
        "8. What is a hash table, and how does it relate to dictionaries in Python?\n",
        "   - A hash table is a data structure that stores data in key-value pairs using a hash function. In Python, dictionaries are implemented using hash tables.\n",
        "9. Can lists contain different data types in Python?\n",
        "   - Yes, lists can contain items of different data types, like [1, \"hello\", 3.14].\n",
        "10. Explain why strings are immutable in Python.\n",
        "   - Strings are immutable to ensure that they remain constant throughout the program, which helps in maintaining data integrity and allows for efficient memory usage.\n",
        "11. What advantages do dictionaries offer over lists for certain tasks?\n",
        "   - Dictionaries allow for faster data retrieval using keys, making them more efficient than lists when you need to access data by a specific identifier.\n",
        "12. Describe a scenario where using a tuple would be preferable over a list.\n",
        "   - When you want to store a fixed set of values that should not change, like coordinates (x, y), using a tuple is preferable because it's immutable.\n",
        "13. How do sets handle duplicate values in Python?\n",
        "   - Sets automatically remove duplicate values, ensuring that each element is unique.\n",
        "14. How does the \"in\" keyword work differently for lists and dictionaries?\n",
        "   - Lists: in checks if a value exists in the list.\n",
        "   - Dictionaries: in checks if a key exists in the dictionary.\n",
        "15. Can you modify the elements of a tuple? Explain why or why not.\n",
        "   - No, tuples are immutable, so their elements cannot be changed after creation. To modify, you would need to create a new tuple.\n",
        "16. What is a nested dictionary, and give an example of its use case?\n",
        "   - A nested dictionary is a dictionary within another dictionary.\n",
        "   Example:student = {\"name\": \"rushi\",\"grades\": {\"math\": 91, \"science\": 95}}\n",
        "17. Describe the time complexity of accessing elements in a dictionary.\n",
        "   - Accessing elements in a dictionary has an average time complexity of O(1), meaning it's very fast.\n",
        "18. In what situations are lists preferred over dictionaries?\n",
        "   - When you need to maintain the order of items or access elements by their position (index), lists are preferred.\n",
        "19. Why are dictionaries considered unordered, and how does that affect data retrieval?\n",
        "   - Dictionaries do not maintain the order of items; they store data based on keys. This means you cannot rely on the order of items when retrieving data.\n",
        "20. Explain the difference between a list and a dictionary in terms of data retrieval.\n",
        "   - List: Access items by their position (index).\n",
        "   - Dictionary: Access items by their unique keys, allowing for faster retrieval when the key is known.\n"
      ],
      "metadata": {
        "id": "xo7SQMyp9br2"
      }
    },
    {
      "cell_type": "code",
      "source": [
        "# Q1. Create a string with your name and print it.\n",
        "name = \"RUSHI\"\n",
        "print(name)"
      ],
      "metadata": {
        "colab": {
          "base_uri": "https://localhost:8080/"
        },
        "id": "iu8tSmY5C6ox",
        "outputId": "3bb6060a-4bb2-484c-f227-749a4e68f4d0"
      },
      "execution_count": 3,
      "outputs": [
        {
          "output_type": "stream",
          "name": "stdout",
          "text": [
            "RUSHI\n"
          ]
        }
      ]
    },
    {
      "cell_type": "code",
      "source": [
        "# Q2. Find the length of the string \"Hello World\".\n",
        "text = \"Hello World\"\n",
        "print(len(text))"
      ],
      "metadata": {
        "colab": {
          "base_uri": "https://localhost:8080/"
        },
        "id": "OfQUJW_ZEJC_",
        "outputId": "5facc2e2-0e1d-4e4b-c783-03636c9dba15"
      },
      "execution_count": 4,
      "outputs": [
        {
          "output_type": "stream",
          "name": "stdout",
          "text": [
            "11\n"
          ]
        }
      ]
    },
    {
      "cell_type": "code",
      "source": [
        "# Q3. Slice the first 3 characters from the string \"Python Programming\".\n",
        "text = \"Python Programming\"\n",
        "print(text[:3])"
      ],
      "metadata": {
        "colab": {
          "base_uri": "https://localhost:8080/"
        },
        "id": "ZeJnqga8E0T_",
        "outputId": "57dc5aaa-0223-47a3-dab0-4e5b67be822e"
      },
      "execution_count": 5,
      "outputs": [
        {
          "output_type": "stream",
          "name": "stdout",
          "text": [
            "Pyt\n"
          ]
        }
      ]
    },
    {
      "cell_type": "code",
      "source": [
        "# Q4. Convert the string \"hello\" to uppercase.\n",
        "text = \"hello\"\n",
        "print(text.upper())"
      ],
      "metadata": {
        "colab": {
          "base_uri": "https://localhost:8080/"
        },
        "id": "-u-Pg-FmFBBV",
        "outputId": "5284d994-2aa6-4384-8a3a-0b30fd319bfb"
      },
      "execution_count": 6,
      "outputs": [
        {
          "output_type": "stream",
          "name": "stdout",
          "text": [
            "HELLO\n"
          ]
        }
      ]
    },
    {
      "cell_type": "code",
      "source": [
        "# Q5. Replace the word \"apple\" with \"orange\" in the string \"I like apple\".\n",
        "text = \"I like apple\"\n",
        "print(text.replace(\"apple\", \"orange\"))"
      ],
      "metadata": {
        "colab": {
          "base_uri": "https://localhost:8080/"
        },
        "id": "8nQp25EWFPQo",
        "outputId": "5f8d13dd-77fa-4027-f831-a96b9103dd4c"
      },
      "execution_count": 7,
      "outputs": [
        {
          "output_type": "stream",
          "name": "stdout",
          "text": [
            "I like orange\n"
          ]
        }
      ]
    },
    {
      "cell_type": "code",
      "source": [
        "# Q6. Create a list with numbers 1 to 5 and print it.\n",
        "numbers = list(range(1, 6))\n",
        "print(numbers)"
      ],
      "metadata": {
        "colab": {
          "base_uri": "https://localhost:8080/"
        },
        "id": "NmMDdhXXFZOt",
        "outputId": "b8e0f908-39dc-4985-d99b-0bf3cae5099f"
      },
      "execution_count": 8,
      "outputs": [
        {
          "output_type": "stream",
          "name": "stdout",
          "text": [
            "[1, 2, 3, 4, 5]\n"
          ]
        }
      ]
    },
    {
      "cell_type": "code",
      "source": [
        "# Q7. Append the number 10 to the list [1, 2, 3, 4].\n",
        "numbers = [1, 2, 3, 4]\n",
        "numbers.append(10)\n",
        "print(numbers)"
      ],
      "metadata": {
        "colab": {
          "base_uri": "https://localhost:8080/"
        },
        "id": "Uj1_K837Ff01",
        "outputId": "ff4744bd-6753-4281-fc32-b082514ed297"
      },
      "execution_count": 9,
      "outputs": [
        {
          "output_type": "stream",
          "name": "stdout",
          "text": [
            "[1, 2, 3, 4, 10]\n"
          ]
        }
      ]
    },
    {
      "cell_type": "code",
      "source": [
        "# Q8. Remove the number 3 from the list [1, 2, 3, 4, 5].\n",
        "numbers = [1, 2, 3, 4, 5]\n",
        "numbers.remove(3)\n",
        "print(numbers)"
      ],
      "metadata": {
        "colab": {
          "base_uri": "https://localhost:8080/"
        },
        "id": "ll8P1ACwFyqO",
        "outputId": "a1684fb3-3fa4-4a1f-d4d7-61d4a98e707f"
      },
      "execution_count": 10,
      "outputs": [
        {
          "output_type": "stream",
          "name": "stdout",
          "text": [
            "[1, 2, 4, 5]\n"
          ]
        }
      ]
    },
    {
      "cell_type": "code",
      "source": [
        "# Q9. Access the second element in the list ['a', 'b', 'c', 'd'].\n",
        "letters = ['a', 'b', 'c', 'd']\n",
        "print(letters[1])"
      ],
      "metadata": {
        "colab": {
          "base_uri": "https://localhost:8080/"
        },
        "id": "3N7F_9sNF6-9",
        "outputId": "54c39de6-8256-4492-82ed-c8501fbde413"
      },
      "execution_count": 11,
      "outputs": [
        {
          "output_type": "stream",
          "name": "stdout",
          "text": [
            "b\n"
          ]
        }
      ]
    },
    {
      "cell_type": "code",
      "source": [
        "# Q10. Reverse the list [10, 20, 30, 40, 50].\n",
        "numbers = [10, 20, 30, 40, 50]\n",
        "numbers.reverse()\n",
        "print(numbers)"
      ],
      "metadata": {
        "colab": {
          "base_uri": "https://localhost:8080/"
        },
        "id": "OjHLLPfNGBs9",
        "outputId": "4b7acf8a-6c01-4ca2-8684-e9cf2767c3bd"
      },
      "execution_count": 12,
      "outputs": [
        {
          "output_type": "stream",
          "name": "stdout",
          "text": [
            "[50, 40, 30, 20, 10]\n"
          ]
        }
      ]
    },
    {
      "cell_type": "code",
      "source": [
        "# Q11. Create a tuple with elements 100,200,300 and print it.\n",
        "my_tuple = (100,200,300)\n",
        "print(my_tuple)"
      ],
      "metadata": {
        "colab": {
          "base_uri": "https://localhost:8080/"
        },
        "id": "B4VoqPT-GTkU",
        "outputId": "54dbb6ad-f448-46c4-b15b-28373ce91e56"
      },
      "execution_count": 16,
      "outputs": [
        {
          "output_type": "stream",
          "name": "stdout",
          "text": [
            "(100, 200, 300)\n"
          ]
        }
      ]
    },
    {
      "cell_type": "code",
      "source": [
        "# Q12. Access the second-to-last element of the tuple ('red','green','blue','yellow').\n",
        "colors = ('red','green','blue','yellow')\n",
        "print(colors[-2])"
      ],
      "metadata": {
        "colab": {
          "base_uri": "https://localhost:8080/"
        },
        "id": "uDfRDYygGeDW",
        "outputId": "d4a2a6fa-608c-400c-ad76-9f2a55a638e3"
      },
      "execution_count": 14,
      "outputs": [
        {
          "output_type": "stream",
          "name": "stdout",
          "text": [
            "blue\n"
          ]
        }
      ]
    },
    {
      "cell_type": "code",
      "source": [
        "# Q13. Find the minimum number in the tuple (10, 20, 5, 15).\n",
        "numbers = (10, 20, 5, 15)\n",
        "print(min(numbers))"
      ],
      "metadata": {
        "colab": {
          "base_uri": "https://localhost:8080/"
        },
        "id": "zGSZ-AhuGvHc",
        "outputId": "2a743d90-f5c8-49fc-e23c-0f78de74b0a1"
      },
      "execution_count": 15,
      "outputs": [
        {
          "output_type": "stream",
          "name": "stdout",
          "text": [
            "5\n"
          ]
        }
      ]
    },
    {
      "cell_type": "code",
      "source": [
        "# Q14. Find the index of the element \"cat\" in the tuple ('dog','cat','rabbit').\n",
        "animals = ('dog','cat','rabbit')\n",
        "print(animals.index('cat'))"
      ],
      "metadata": {
        "colab": {
          "base_uri": "https://localhost:8080/"
        },
        "id": "-9_R30vXG0uG",
        "outputId": "a1748fd6-3704-4465-dbca-5a1f73e10281"
      },
      "execution_count": 17,
      "outputs": [
        {
          "output_type": "stream",
          "name": "stdout",
          "text": [
            "1\n"
          ]
        }
      ]
    },
    {
      "cell_type": "code",
      "source": [
        "# Q15. Create a tuple containing three different fruits and check if \"kiwi\" is in it.\n",
        "fruits = ('apple', 'banana', 'cherry')\n",
        "print('kiwi' in fruits)"
      ],
      "metadata": {
        "colab": {
          "base_uri": "https://localhost:8080/"
        },
        "id": "u52wsKTGRwn8",
        "outputId": "6a18dca2-79a3-4cbe-b910-311be628fd7a"
      },
      "execution_count": 18,
      "outputs": [
        {
          "output_type": "stream",
          "name": "stdout",
          "text": [
            "False\n"
          ]
        }
      ]
    },
    {
      "cell_type": "code",
      "source": [
        "# Q16. Create a set with the elements 'a', 'b', 'c' and print it.\n",
        "my_set = {'a', 'b', 'c'}\n",
        "print(my_set)"
      ],
      "metadata": {
        "colab": {
          "base_uri": "https://localhost:8080/"
        },
        "id": "M1QncvA0R980",
        "outputId": "68c4ec11-6fbc-4123-b473-48ba30bc885a"
      },
      "execution_count": 19,
      "outputs": [
        {
          "output_type": "stream",
          "name": "stdout",
          "text": [
            "{'b', 'a', 'c'}\n"
          ]
        }
      ]
    },
    {
      "cell_type": "code",
      "source": [
        "# Q17. Clear all elements from the set {1, 2, 3, 4, 5}\n",
        "my_set = {1, 2, 3, 4, 5}\n",
        "my_set.clear()\n",
        "print(my_set)"
      ],
      "metadata": {
        "colab": {
          "base_uri": "https://localhost:8080/"
        },
        "id": "1LqPSPntSHbk",
        "outputId": "59d77beb-0d12-4cef-963c-0a940bdf94bf"
      },
      "execution_count": 20,
      "outputs": [
        {
          "output_type": "stream",
          "name": "stdout",
          "text": [
            "set()\n"
          ]
        }
      ]
    },
    {
      "cell_type": "code",
      "source": [
        "# Q18. Remove the element 4 from the set {1, 2, 3, 4}.\n",
        "my_set = {1, 2, 3, 4}\n",
        "my_set.remove(4)\n",
        "print(my_set)"
      ],
      "metadata": {
        "colab": {
          "base_uri": "https://localhost:8080/"
        },
        "id": "QXbXlIRJSOmy",
        "outputId": "8407379f-857c-4c8d-e931-16f19df96ba2"
      },
      "execution_count": 21,
      "outputs": [
        {
          "output_type": "stream",
          "name": "stdout",
          "text": [
            "{1, 2, 3}\n"
          ]
        }
      ]
    },
    {
      "cell_type": "code",
      "source": [
        "# Q19. Find the union of two sets {1, 2, 3} and {3, 4, 5}.\n",
        "set1 = {1, 2, 3}\n",
        "set2 = {3, 4, 5}\n",
        "union_set = set1.union(set2)\n",
        "print(union_set)"
      ],
      "metadata": {
        "colab": {
          "base_uri": "https://localhost:8080/"
        },
        "id": "19rr4ZxaSV2C",
        "outputId": "559c5ecd-d778-4878-eac1-49138d13098c"
      },
      "execution_count": 22,
      "outputs": [
        {
          "output_type": "stream",
          "name": "stdout",
          "text": [
            "{1, 2, 3, 4, 5}\n"
          ]
        }
      ]
    },
    {
      "cell_type": "code",
      "source": [
        "# Q20. Find the intersection of two sets {1, 2, 3} and {2, 3, 4}.\n",
        "set1 = {1, 2, 3}\n",
        "set2 = {2, 3, 4}\n",
        "intersection_set = set1.intersection(set2)\n",
        "print(intersection_set)"
      ],
      "metadata": {
        "colab": {
          "base_uri": "https://localhost:8080/"
        },
        "id": "JtOrlHYGSf60",
        "outputId": "9a0313c1-c403-4d02-f0af-a32e409cd849"
      },
      "execution_count": 23,
      "outputs": [
        {
          "output_type": "stream",
          "name": "stdout",
          "text": [
            "{2, 3}\n"
          ]
        }
      ]
    },
    {
      "cell_type": "code",
      "source": [
        "# Q21. Create a dictionary with the keys \"name\", \"age\", and \"city\", and print it\n",
        "person = {'name': 'John', 'age': 30, 'city': 'New York'}\n",
        "print(person)"
      ],
      "metadata": {
        "colab": {
          "base_uri": "https://localhost:8080/"
        },
        "id": "lfvwX7ewSs78",
        "outputId": "444de3bf-9502-47e4-813d-136a425eddd8"
      },
      "execution_count": 24,
      "outputs": [
        {
          "output_type": "stream",
          "name": "stdout",
          "text": [
            "{'name': 'John', 'age': 30, 'city': 'New York'}\n"
          ]
        }
      ]
    },
    {
      "cell_type": "code",
      "source": [
        "# Q22. Add a new key-value pair \"country\": \"USA\" to the dictionary {'name': 'John', 'age': 25}.\n",
        "person = {'name': 'John', 'age': 25}\n",
        "person['country'] = 'USA'\n",
        "print(person)"
      ],
      "metadata": {
        "colab": {
          "base_uri": "https://localhost:8080/"
        },
        "id": "mQ4NQK6wSz-q",
        "outputId": "6ccd1cef-15d0-4ac9-efdb-aaa308a90354"
      },
      "execution_count": 25,
      "outputs": [
        {
          "output_type": "stream",
          "name": "stdout",
          "text": [
            "{'name': 'John', 'age': 25, 'country': 'USA'}\n"
          ]
        }
      ]
    },
    {
      "cell_type": "code",
      "source": [
        "# Q23. Access the value associated with the key \"name\" in the dictionary {'name': 'Alice', 'age': 30}.\n",
        "person = {'name': 'Alice', 'age': 30}\n",
        "print(person['name'])"
      ],
      "metadata": {
        "colab": {
          "base_uri": "https://localhost:8080/"
        },
        "id": "1Zk6sY-2S7jk",
        "outputId": "e2a531fd-066d-4ac4-dc5f-f93f71319a55"
      },
      "execution_count": 26,
      "outputs": [
        {
          "output_type": "stream",
          "name": "stdout",
          "text": [
            "Alice\n"
          ]
        }
      ]
    },
    {
      "cell_type": "code",
      "source": [
        "# Q24. Remove the key \"age\" from the dictionary {'name':'Bob','age': 22,'city':'New York'}.\n",
        "person = {'name':'Bob','age': 22,'city':'New York'}\n",
        "del person['age']\n",
        "print(person)"
      ],
      "metadata": {
        "colab": {
          "base_uri": "https://localhost:8080/"
        },
        "id": "B-_8K1AkTBib",
        "outputId": "ccd5309b-0a9b-42d5-95bc-ecea9402fcd7"
      },
      "execution_count": 28,
      "outputs": [
        {
          "output_type": "stream",
          "name": "stdout",
          "text": [
            "{'name': 'Bob', 'city': 'New York'}\n"
          ]
        }
      ]
    },
    {
      "cell_type": "code",
      "source": [
        "# Q25. Check if the key \"city\" exists in the dictionary {'name':'Alice','city':'Paris'}.\n",
        "person = {'name':'Alice','city':'Paris'}\n",
        "print('city' in person)"
      ],
      "metadata": {
        "colab": {
          "base_uri": "https://localhost:8080/"
        },
        "id": "3f6LIVheTP0k",
        "outputId": "54dee7d2-2624-4624-e2eb-d7787cda77b4"
      },
      "execution_count": 30,
      "outputs": [
        {
          "output_type": "stream",
          "name": "stdout",
          "text": [
            "True\n"
          ]
        }
      ]
    },
    {
      "cell_type": "code",
      "source": [
        "# Q26. Create a list, a tuple, and a dictionary, and print them all.\n",
        "my_list = [1, 2, 3]\n",
        "my_tuple = (4, 5, 6)\n",
        "my_dict = {'a': 7, 'b': 8}\n",
        "print(my_list)\n",
        "print(my_tuple)\n",
        "print(my_dict)"
      ],
      "metadata": {
        "colab": {
          "base_uri": "https://localhost:8080/"
        },
        "id": "wU3mDBW7TcsX",
        "outputId": "caa9feb4-15df-4d95-8985-0d70d41a1db0"
      },
      "execution_count": 31,
      "outputs": [
        {
          "output_type": "stream",
          "name": "stdout",
          "text": [
            "[1, 2, 3]\n",
            "(4, 5, 6)\n",
            "{'a': 7, 'b': 8}\n"
          ]
        }
      ]
    },
    {
      "cell_type": "code",
      "source": [
        "# Q27. Create a list of 5 random numbers between 1 and 100, sort it in ascending order, and print the result.\n",
        "import random\n",
        "numbers = random.sample(range(1,101),5)\n",
        "numbers.sort()\n",
        "print(numbers)"
      ],
      "metadata": {
        "colab": {
          "base_uri": "https://localhost:8080/"
        },
        "id": "NHiW0akDTiv8",
        "outputId": "06675ce5-2ac5-407f-ed21-08e7b841cdd7"
      },
      "execution_count": 32,
      "outputs": [
        {
          "output_type": "stream",
          "name": "stdout",
          "text": [
            "[7, 22, 40, 60, 70]\n"
          ]
        }
      ]
    },
    {
      "cell_type": "code",
      "source": [
        "# Q28. Create a list with strings and print the element at the third index.\n",
        "names = ['sagar','pravin','om','vaibhav','Rushi']\n",
        "print(names[3])"
      ],
      "metadata": {
        "colab": {
          "base_uri": "https://localhost:8080/"
        },
        "id": "-M-y0N-RTssL",
        "outputId": "9e8f4c0a-bf96-483a-ab9c-b3de0d4d9fde"
      },
      "execution_count": 35,
      "outputs": [
        {
          "output_type": "stream",
          "name": "stdout",
          "text": [
            "vaibhav\n"
          ]
        }
      ]
    },
    {
      "cell_type": "code",
      "source": [
        "# Q29. Combine two dictionaries into one and print the result.\n",
        "dict1 = {'a': 1,'b': 2}\n",
        "dict2 = {'c': 3,'d': 4}\n",
        "combined_dict = {**dict1,**dict2}\n",
        "print(combined_dict)"
      ],
      "metadata": {
        "colab": {
          "base_uri": "https://localhost:8080/"
        },
        "id": "Sy2LH1rjUWlB",
        "outputId": "f05aaae5-0844-49ee-ed8c-4eab2ddf024e"
      },
      "execution_count": 37,
      "outputs": [
        {
          "output_type": "stream",
          "name": "stdout",
          "text": [
            "{'a': 1, 'b': 2, 'c': 3, 'd': 4}\n"
          ]
        }
      ]
    },
    {
      "cell_type": "code",
      "source": [
        "# Q30. Convert a list of strings into a set.\n",
        "string_list = ['apple','banana','cherry']\n",
        "string_set = set(string_list)\n",
        "print(string_set)"
      ],
      "metadata": {
        "colab": {
          "base_uri": "https://localhost:8080/"
        },
        "id": "6WrD9cyvUnlb",
        "outputId": "d98d4c28-94f5-4fb1-fb0c-4573be3a7c43"
      },
      "execution_count": 38,
      "outputs": [
        {
          "output_type": "stream",
          "name": "stdout",
          "text": [
            "{'banana', 'cherry', 'apple'}\n"
          ]
        }
      ]
    }
  ]
}